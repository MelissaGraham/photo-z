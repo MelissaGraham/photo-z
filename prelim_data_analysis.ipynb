{
 "cells": [
  {
   "cell_type": "code",
   "execution_count": 49,
   "metadata": {},
   "outputs": [],
   "source": [
    "import os\n",
    "import numpy as np\n",
    "import pandas as pd\n",
    "import math\n",
    "import matplotlib.pyplot as plt\n",
    "from sklearn import linear_model"
   ]
  },
  {
   "cell_type": "code",
   "execution_count": 3,
   "metadata": {},
   "outputs": [
    {
     "data": {
      "text/plain": [
       "'/home/kinimv/code/lsst'"
      ]
     },
     "execution_count": 3,
     "metadata": {},
     "output_type": "execute_result"
    }
   ],
   "source": [
    "os.getcwd()"
   ]
  },
  {
   "cell_type": "code",
   "execution_count": 45,
   "metadata": {},
   "outputs": [],
   "source": [
    "#df = pd.read_csv('/home/kinimv/code/lsst/prelim_survey_stddevs.dat', sep='\\s+', header=None, skiprows=1)\n",
    "df = pd.read_csv('/home/kinimv/code/lsst/prelim_survey_stddevs.dat', sep='\\s+', header=None, skiprows=16)\n"
   ]
  },
  {
   "cell_type": "code",
   "execution_count": 98,
   "metadata": {},
   "outputs": [],
   "source": [
    "df.columns = ['u','g','r','i','z','y','bin1','bin2','bin3','bin4','bin5','bin6','bin7','bin8','bin9']\n",
    "#bins are [0.45,0.75,1.05,1.35,1.65,1.95,2.25,2.55,2.85]"
   ]
  },
  {
   "cell_type": "code",
   "execution_count": 99,
   "metadata": {},
   "outputs": [
    {
     "data": {
      "text/html": [
       "<div>\n",
       "<style scoped>\n",
       "    .dataframe tbody tr th:only-of-type {\n",
       "        vertical-align: middle;\n",
       "    }\n",
       "\n",
       "    .dataframe tbody tr th {\n",
       "        vertical-align: top;\n",
       "    }\n",
       "\n",
       "    .dataframe thead th {\n",
       "        text-align: right;\n",
       "    }\n",
       "</style>\n",
       "<table border=\"1\" class=\"dataframe\">\n",
       "  <thead>\n",
       "    <tr style=\"text-align: right;\">\n",
       "      <th></th>\n",
       "      <th>u</th>\n",
       "      <th>g</th>\n",
       "      <th>r</th>\n",
       "      <th>i</th>\n",
       "      <th>z</th>\n",
       "      <th>y</th>\n",
       "      <th>bin1</th>\n",
       "      <th>bin2</th>\n",
       "      <th>bin3</th>\n",
       "      <th>bin4</th>\n",
       "      <th>bin5</th>\n",
       "      <th>bin6</th>\n",
       "      <th>bin7</th>\n",
       "      <th>bin8</th>\n",
       "      <th>bin9</th>\n",
       "    </tr>\n",
       "  </thead>\n",
       "  <tbody>\n",
       "    <tr>\n",
       "      <th>0</th>\n",
       "      <td>NaN</td>\n",
       "      <td>27.45</td>\n",
       "      <td>27.57</td>\n",
       "      <td>26.87</td>\n",
       "      <td>26.09</td>\n",
       "      <td>24.89</td>\n",
       "      <td>0.0210</td>\n",
       "      <td>0.0131</td>\n",
       "      <td>0.0145</td>\n",
       "      <td>0.0234</td>\n",
       "      <td>0.0416</td>\n",
       "      <td>0.0517</td>\n",
       "      <td>0.0294</td>\n",
       "      <td>0.0445</td>\n",
       "      <td>0.0606</td>\n",
       "    </tr>\n",
       "    <tr>\n",
       "      <th>1</th>\n",
       "      <td>25.67</td>\n",
       "      <td>27.42</td>\n",
       "      <td>27.55</td>\n",
       "      <td>26.85</td>\n",
       "      <td>26.08</td>\n",
       "      <td>24.88</td>\n",
       "      <td>0.0178</td>\n",
       "      <td>0.0131</td>\n",
       "      <td>0.0145</td>\n",
       "      <td>0.0215</td>\n",
       "      <td>0.0277</td>\n",
       "      <td>0.0278</td>\n",
       "      <td>0.0257</td>\n",
       "      <td>0.0330</td>\n",
       "      <td>0.0408</td>\n",
       "    </tr>\n",
       "    <tr>\n",
       "      <th>2</th>\n",
       "      <td>26.09</td>\n",
       "      <td>27.38</td>\n",
       "      <td>27.53</td>\n",
       "      <td>26.83</td>\n",
       "      <td>26.06</td>\n",
       "      <td>24.86</td>\n",
       "      <td>0.0162</td>\n",
       "      <td>0.0132</td>\n",
       "      <td>0.0139</td>\n",
       "      <td>0.0212</td>\n",
       "      <td>0.0249</td>\n",
       "      <td>0.0268</td>\n",
       "      <td>0.0242</td>\n",
       "      <td>0.0303</td>\n",
       "      <td>0.0340</td>\n",
       "    </tr>\n",
       "    <tr>\n",
       "      <th>3</th>\n",
       "      <td>26.38</td>\n",
       "      <td>27.32</td>\n",
       "      <td>27.51</td>\n",
       "      <td>26.81</td>\n",
       "      <td>26.03</td>\n",
       "      <td>24.83</td>\n",
       "      <td>0.0173</td>\n",
       "      <td>0.0132</td>\n",
       "      <td>0.0141</td>\n",
       "      <td>0.0217</td>\n",
       "      <td>0.0259</td>\n",
       "      <td>0.0244</td>\n",
       "      <td>0.0240</td>\n",
       "      <td>0.0321</td>\n",
       "      <td>0.0327</td>\n",
       "    </tr>\n",
       "    <tr>\n",
       "      <th>4</th>\n",
       "      <td>26.32</td>\n",
       "      <td>27.56</td>\n",
       "      <td>27.62</td>\n",
       "      <td>26.92</td>\n",
       "      <td>26.15</td>\n",
       "      <td>NaN</td>\n",
       "      <td>0.0173</td>\n",
       "      <td>0.0130</td>\n",
       "      <td>0.0176</td>\n",
       "      <td>0.0307</td>\n",
       "      <td>0.0268</td>\n",
       "      <td>0.0257</td>\n",
       "      <td>0.0250</td>\n",
       "      <td>0.0293</td>\n",
       "      <td>0.0357</td>\n",
       "    </tr>\n",
       "    <tr>\n",
       "      <th>5</th>\n",
       "      <td>26.22</td>\n",
       "      <td>27.48</td>\n",
       "      <td>27.58</td>\n",
       "      <td>26.88</td>\n",
       "      <td>26.11</td>\n",
       "      <td>24.48</td>\n",
       "      <td>0.0171</td>\n",
       "      <td>0.0129</td>\n",
       "      <td>0.0148</td>\n",
       "      <td>0.0233</td>\n",
       "      <td>0.0267</td>\n",
       "      <td>0.0261</td>\n",
       "      <td>0.0252</td>\n",
       "      <td>0.0292</td>\n",
       "      <td>0.0344</td>\n",
       "    </tr>\n",
       "    <tr>\n",
       "      <th>6</th>\n",
       "      <td>26.09</td>\n",
       "      <td>27.38</td>\n",
       "      <td>27.53</td>\n",
       "      <td>26.83</td>\n",
       "      <td>26.06</td>\n",
       "      <td>24.86</td>\n",
       "      <td>0.0162</td>\n",
       "      <td>0.0132</td>\n",
       "      <td>0.0139</td>\n",
       "      <td>0.0212</td>\n",
       "      <td>0.0249</td>\n",
       "      <td>0.0268</td>\n",
       "      <td>0.0242</td>\n",
       "      <td>0.0303</td>\n",
       "      <td>0.0336</td>\n",
       "    </tr>\n",
       "    <tr>\n",
       "      <th>7</th>\n",
       "      <td>25.90</td>\n",
       "      <td>27.26</td>\n",
       "      <td>27.48</td>\n",
       "      <td>26.78</td>\n",
       "      <td>26.00</td>\n",
       "      <td>25.08</td>\n",
       "      <td>0.0183</td>\n",
       "      <td>0.0136</td>\n",
       "      <td>0.0147</td>\n",
       "      <td>0.0224</td>\n",
       "      <td>0.0260</td>\n",
       "      <td>0.0264</td>\n",
       "      <td>0.0231</td>\n",
       "      <td>0.0304</td>\n",
       "      <td>0.0348</td>\n",
       "    </tr>\n",
       "    <tr>\n",
       "      <th>8</th>\n",
       "      <td>24.84</td>\n",
       "      <td>26.13</td>\n",
       "      <td>26.28</td>\n",
       "      <td>25.58</td>\n",
       "      <td>24.81</td>\n",
       "      <td>23.61</td>\n",
       "      <td>0.0377</td>\n",
       "      <td>0.0454</td>\n",
       "      <td>0.0353</td>\n",
       "      <td>0.0648</td>\n",
       "      <td>0.0948</td>\n",
       "      <td>0.1091</td>\n",
       "      <td>0.1700</td>\n",
       "      <td>0.2774</td>\n",
       "      <td>0.4161</td>\n",
       "    </tr>\n",
       "    <tr>\n",
       "      <th>9</th>\n",
       "      <td>25.21</td>\n",
       "      <td>26.51</td>\n",
       "      <td>26.66</td>\n",
       "      <td>25.96</td>\n",
       "      <td>25.18</td>\n",
       "      <td>23.98</td>\n",
       "      <td>0.0290</td>\n",
       "      <td>0.0254</td>\n",
       "      <td>0.0298</td>\n",
       "      <td>0.0421</td>\n",
       "      <td>0.0668</td>\n",
       "      <td>0.0971</td>\n",
       "      <td>0.0806</td>\n",
       "      <td>0.2816</td>\n",
       "      <td>0.4428</td>\n",
       "    </tr>\n",
       "    <tr>\n",
       "      <th>10</th>\n",
       "      <td>25.71</td>\n",
       "      <td>27.00</td>\n",
       "      <td>27.15</td>\n",
       "      <td>26.45</td>\n",
       "      <td>25.68</td>\n",
       "      <td>24.48</td>\n",
       "      <td>0.0225</td>\n",
       "      <td>0.0167</td>\n",
       "      <td>0.0188</td>\n",
       "      <td>0.0280</td>\n",
       "      <td>0.0381</td>\n",
       "      <td>0.0542</td>\n",
       "      <td>0.0376</td>\n",
       "      <td>0.1243</td>\n",
       "      <td>0.4702</td>\n",
       "    </tr>\n",
       "    <tr>\n",
       "      <th>11</th>\n",
       "      <td>26.09</td>\n",
       "      <td>27.38</td>\n",
       "      <td>27.53</td>\n",
       "      <td>26.83</td>\n",
       "      <td>26.06</td>\n",
       "      <td>24.86</td>\n",
       "      <td>0.0163</td>\n",
       "      <td>0.0132</td>\n",
       "      <td>0.0139</td>\n",
       "      <td>0.0212</td>\n",
       "      <td>0.0249</td>\n",
       "      <td>0.0268</td>\n",
       "      <td>0.0243</td>\n",
       "      <td>0.0303</td>\n",
       "      <td>0.0339</td>\n",
       "    </tr>\n",
       "  </tbody>\n",
       "</table>\n",
       "</div>"
      ],
      "text/plain": [
       "        u      g      r      i      z      y    bin1    bin2    bin3    bin4  \\\n",
       "0     NaN  27.45  27.57  26.87  26.09  24.89  0.0210  0.0131  0.0145  0.0234   \n",
       "1   25.67  27.42  27.55  26.85  26.08  24.88  0.0178  0.0131  0.0145  0.0215   \n",
       "2   26.09  27.38  27.53  26.83  26.06  24.86  0.0162  0.0132  0.0139  0.0212   \n",
       "3   26.38  27.32  27.51  26.81  26.03  24.83  0.0173  0.0132  0.0141  0.0217   \n",
       "4   26.32  27.56  27.62  26.92  26.15    NaN  0.0173  0.0130  0.0176  0.0307   \n",
       "5   26.22  27.48  27.58  26.88  26.11  24.48  0.0171  0.0129  0.0148  0.0233   \n",
       "6   26.09  27.38  27.53  26.83  26.06  24.86  0.0162  0.0132  0.0139  0.0212   \n",
       "7   25.90  27.26  27.48  26.78  26.00  25.08  0.0183  0.0136  0.0147  0.0224   \n",
       "8   24.84  26.13  26.28  25.58  24.81  23.61  0.0377  0.0454  0.0353  0.0648   \n",
       "9   25.21  26.51  26.66  25.96  25.18  23.98  0.0290  0.0254  0.0298  0.0421   \n",
       "10  25.71  27.00  27.15  26.45  25.68  24.48  0.0225  0.0167  0.0188  0.0280   \n",
       "11  26.09  27.38  27.53  26.83  26.06  24.86  0.0163  0.0132  0.0139  0.0212   \n",
       "\n",
       "      bin5    bin6    bin7    bin8    bin9  \n",
       "0   0.0416  0.0517  0.0294  0.0445  0.0606  \n",
       "1   0.0277  0.0278  0.0257  0.0330  0.0408  \n",
       "2   0.0249  0.0268  0.0242  0.0303  0.0340  \n",
       "3   0.0259  0.0244  0.0240  0.0321  0.0327  \n",
       "4   0.0268  0.0257  0.0250  0.0293  0.0357  \n",
       "5   0.0267  0.0261  0.0252  0.0292  0.0344  \n",
       "6   0.0249  0.0268  0.0242  0.0303  0.0336  \n",
       "7   0.0260  0.0264  0.0231  0.0304  0.0348  \n",
       "8   0.0948  0.1091  0.1700  0.2774  0.4161  \n",
       "9   0.0668  0.0971  0.0806  0.2816  0.4428  \n",
       "10  0.0381  0.0542  0.0376  0.1243  0.4702  \n",
       "11  0.0249  0.0268  0.0243  0.0303  0.0339  "
      ]
     },
     "execution_count": 99,
     "metadata": {},
     "output_type": "execute_result"
    }
   ],
   "source": [
    "df"
   ]
  },
  {
   "cell_type": "code",
   "execution_count": 100,
   "metadata": {},
   "outputs": [
    {
     "data": {
      "text/html": [
       "<div>\n",
       "<style scoped>\n",
       "    .dataframe tbody tr th:only-of-type {\n",
       "        vertical-align: middle;\n",
       "    }\n",
       "\n",
       "    .dataframe tbody tr th {\n",
       "        vertical-align: top;\n",
       "    }\n",
       "\n",
       "    .dataframe thead th {\n",
       "        text-align: right;\n",
       "    }\n",
       "</style>\n",
       "<table border=\"1\" class=\"dataframe\">\n",
       "  <thead>\n",
       "    <tr style=\"text-align: right;\">\n",
       "      <th></th>\n",
       "      <th>u</th>\n",
       "      <th>g</th>\n",
       "      <th>r</th>\n",
       "      <th>i</th>\n",
       "      <th>z</th>\n",
       "      <th>y</th>\n",
       "      <th>bin1</th>\n",
       "      <th>bin2</th>\n",
       "      <th>bin3</th>\n",
       "      <th>bin4</th>\n",
       "      <th>bin5</th>\n",
       "      <th>bin6</th>\n",
       "      <th>bin7</th>\n",
       "      <th>bin8</th>\n",
       "      <th>bin9</th>\n",
       "    </tr>\n",
       "  </thead>\n",
       "  <tbody>\n",
       "    <tr>\n",
       "      <th>1</th>\n",
       "      <td>25.67</td>\n",
       "      <td>27.42</td>\n",
       "      <td>27.55</td>\n",
       "      <td>26.85</td>\n",
       "      <td>26.08</td>\n",
       "      <td>24.88</td>\n",
       "      <td>0.0178</td>\n",
       "      <td>0.0131</td>\n",
       "      <td>0.0145</td>\n",
       "      <td>0.0215</td>\n",
       "      <td>0.0277</td>\n",
       "      <td>0.0278</td>\n",
       "      <td>0.0257</td>\n",
       "      <td>0.0330</td>\n",
       "      <td>0.0408</td>\n",
       "    </tr>\n",
       "    <tr>\n",
       "      <th>2</th>\n",
       "      <td>26.09</td>\n",
       "      <td>27.38</td>\n",
       "      <td>27.53</td>\n",
       "      <td>26.83</td>\n",
       "      <td>26.06</td>\n",
       "      <td>24.86</td>\n",
       "      <td>0.0162</td>\n",
       "      <td>0.0132</td>\n",
       "      <td>0.0139</td>\n",
       "      <td>0.0212</td>\n",
       "      <td>0.0249</td>\n",
       "      <td>0.0268</td>\n",
       "      <td>0.0242</td>\n",
       "      <td>0.0303</td>\n",
       "      <td>0.0340</td>\n",
       "    </tr>\n",
       "    <tr>\n",
       "      <th>3</th>\n",
       "      <td>26.38</td>\n",
       "      <td>27.32</td>\n",
       "      <td>27.51</td>\n",
       "      <td>26.81</td>\n",
       "      <td>26.03</td>\n",
       "      <td>24.83</td>\n",
       "      <td>0.0173</td>\n",
       "      <td>0.0132</td>\n",
       "      <td>0.0141</td>\n",
       "      <td>0.0217</td>\n",
       "      <td>0.0259</td>\n",
       "      <td>0.0244</td>\n",
       "      <td>0.0240</td>\n",
       "      <td>0.0321</td>\n",
       "      <td>0.0327</td>\n",
       "    </tr>\n",
       "    <tr>\n",
       "      <th>5</th>\n",
       "      <td>26.22</td>\n",
       "      <td>27.48</td>\n",
       "      <td>27.58</td>\n",
       "      <td>26.88</td>\n",
       "      <td>26.11</td>\n",
       "      <td>24.48</td>\n",
       "      <td>0.0171</td>\n",
       "      <td>0.0129</td>\n",
       "      <td>0.0148</td>\n",
       "      <td>0.0233</td>\n",
       "      <td>0.0267</td>\n",
       "      <td>0.0261</td>\n",
       "      <td>0.0252</td>\n",
       "      <td>0.0292</td>\n",
       "      <td>0.0344</td>\n",
       "    </tr>\n",
       "    <tr>\n",
       "      <th>6</th>\n",
       "      <td>26.09</td>\n",
       "      <td>27.38</td>\n",
       "      <td>27.53</td>\n",
       "      <td>26.83</td>\n",
       "      <td>26.06</td>\n",
       "      <td>24.86</td>\n",
       "      <td>0.0162</td>\n",
       "      <td>0.0132</td>\n",
       "      <td>0.0139</td>\n",
       "      <td>0.0212</td>\n",
       "      <td>0.0249</td>\n",
       "      <td>0.0268</td>\n",
       "      <td>0.0242</td>\n",
       "      <td>0.0303</td>\n",
       "      <td>0.0336</td>\n",
       "    </tr>\n",
       "    <tr>\n",
       "      <th>7</th>\n",
       "      <td>25.90</td>\n",
       "      <td>27.26</td>\n",
       "      <td>27.48</td>\n",
       "      <td>26.78</td>\n",
       "      <td>26.00</td>\n",
       "      <td>25.08</td>\n",
       "      <td>0.0183</td>\n",
       "      <td>0.0136</td>\n",
       "      <td>0.0147</td>\n",
       "      <td>0.0224</td>\n",
       "      <td>0.0260</td>\n",
       "      <td>0.0264</td>\n",
       "      <td>0.0231</td>\n",
       "      <td>0.0304</td>\n",
       "      <td>0.0348</td>\n",
       "    </tr>\n",
       "    <tr>\n",
       "      <th>8</th>\n",
       "      <td>24.84</td>\n",
       "      <td>26.13</td>\n",
       "      <td>26.28</td>\n",
       "      <td>25.58</td>\n",
       "      <td>24.81</td>\n",
       "      <td>23.61</td>\n",
       "      <td>0.0377</td>\n",
       "      <td>0.0454</td>\n",
       "      <td>0.0353</td>\n",
       "      <td>0.0648</td>\n",
       "      <td>0.0948</td>\n",
       "      <td>0.1091</td>\n",
       "      <td>0.1700</td>\n",
       "      <td>0.2774</td>\n",
       "      <td>0.4161</td>\n",
       "    </tr>\n",
       "    <tr>\n",
       "      <th>9</th>\n",
       "      <td>25.21</td>\n",
       "      <td>26.51</td>\n",
       "      <td>26.66</td>\n",
       "      <td>25.96</td>\n",
       "      <td>25.18</td>\n",
       "      <td>23.98</td>\n",
       "      <td>0.0290</td>\n",
       "      <td>0.0254</td>\n",
       "      <td>0.0298</td>\n",
       "      <td>0.0421</td>\n",
       "      <td>0.0668</td>\n",
       "      <td>0.0971</td>\n",
       "      <td>0.0806</td>\n",
       "      <td>0.2816</td>\n",
       "      <td>0.4428</td>\n",
       "    </tr>\n",
       "    <tr>\n",
       "      <th>10</th>\n",
       "      <td>25.71</td>\n",
       "      <td>27.00</td>\n",
       "      <td>27.15</td>\n",
       "      <td>26.45</td>\n",
       "      <td>25.68</td>\n",
       "      <td>24.48</td>\n",
       "      <td>0.0225</td>\n",
       "      <td>0.0167</td>\n",
       "      <td>0.0188</td>\n",
       "      <td>0.0280</td>\n",
       "      <td>0.0381</td>\n",
       "      <td>0.0542</td>\n",
       "      <td>0.0376</td>\n",
       "      <td>0.1243</td>\n",
       "      <td>0.4702</td>\n",
       "    </tr>\n",
       "    <tr>\n",
       "      <th>11</th>\n",
       "      <td>26.09</td>\n",
       "      <td>27.38</td>\n",
       "      <td>27.53</td>\n",
       "      <td>26.83</td>\n",
       "      <td>26.06</td>\n",
       "      <td>24.86</td>\n",
       "      <td>0.0163</td>\n",
       "      <td>0.0132</td>\n",
       "      <td>0.0139</td>\n",
       "      <td>0.0212</td>\n",
       "      <td>0.0249</td>\n",
       "      <td>0.0268</td>\n",
       "      <td>0.0243</td>\n",
       "      <td>0.0303</td>\n",
       "      <td>0.0339</td>\n",
       "    </tr>\n",
       "  </tbody>\n",
       "</table>\n",
       "</div>"
      ],
      "text/plain": [
       "        u      g      r      i      z      y    bin1    bin2    bin3    bin4  \\\n",
       "1   25.67  27.42  27.55  26.85  26.08  24.88  0.0178  0.0131  0.0145  0.0215   \n",
       "2   26.09  27.38  27.53  26.83  26.06  24.86  0.0162  0.0132  0.0139  0.0212   \n",
       "3   26.38  27.32  27.51  26.81  26.03  24.83  0.0173  0.0132  0.0141  0.0217   \n",
       "5   26.22  27.48  27.58  26.88  26.11  24.48  0.0171  0.0129  0.0148  0.0233   \n",
       "6   26.09  27.38  27.53  26.83  26.06  24.86  0.0162  0.0132  0.0139  0.0212   \n",
       "7   25.90  27.26  27.48  26.78  26.00  25.08  0.0183  0.0136  0.0147  0.0224   \n",
       "8   24.84  26.13  26.28  25.58  24.81  23.61  0.0377  0.0454  0.0353  0.0648   \n",
       "9   25.21  26.51  26.66  25.96  25.18  23.98  0.0290  0.0254  0.0298  0.0421   \n",
       "10  25.71  27.00  27.15  26.45  25.68  24.48  0.0225  0.0167  0.0188  0.0280   \n",
       "11  26.09  27.38  27.53  26.83  26.06  24.86  0.0163  0.0132  0.0139  0.0212   \n",
       "\n",
       "      bin5    bin6    bin7    bin8    bin9  \n",
       "1   0.0277  0.0278  0.0257  0.0330  0.0408  \n",
       "2   0.0249  0.0268  0.0242  0.0303  0.0340  \n",
       "3   0.0259  0.0244  0.0240  0.0321  0.0327  \n",
       "5   0.0267  0.0261  0.0252  0.0292  0.0344  \n",
       "6   0.0249  0.0268  0.0242  0.0303  0.0336  \n",
       "7   0.0260  0.0264  0.0231  0.0304  0.0348  \n",
       "8   0.0948  0.1091  0.1700  0.2774  0.4161  \n",
       "9   0.0668  0.0971  0.0806  0.2816  0.4428  \n",
       "10  0.0381  0.0542  0.0376  0.1243  0.4702  \n",
       "11  0.0249  0.0268  0.0243  0.0303  0.0339  "
      ]
     },
     "execution_count": 100,
     "metadata": {},
     "output_type": "execute_result"
    }
   ],
   "source": [
    "#df.iloc[3,4]\n",
    "#medianu = math.floor(df.u.median())\n",
    "#mediany = math.floor(df.y.median())\n",
    "#df.u = df.u.fillna(medianu)\n",
    "df2 = df.drop(df.index[0])\n",
    "df3 = df2.drop(df.index[4])\n",
    "df3"
   ]
  },
  {
   "cell_type": "code",
   "execution_count": 102,
   "metadata": {},
   "outputs": [
    {
     "data": {
      "text/plain": [
       "0    0.0210\n",
       "1    0.0178\n",
       "2    0.0162\n",
       "Name: bin1, dtype: float64"
      ]
     },
     "execution_count": 102,
     "metadata": {},
     "output_type": "execute_result"
    }
   ],
   "source": [
    "df.bin1.iloc[0:3]"
   ]
  },
  {
   "cell_type": "code",
   "execution_count": 103,
   "metadata": {},
   "outputs": [
    {
     "data": {
      "text/plain": [
       "LinearRegression(copy_X=True, fit_intercept=True, n_jobs=None,\n",
       "         normalize=False)"
      ]
     },
     "execution_count": 103,
     "metadata": {},
     "output_type": "execute_result"
    }
   ],
   "source": [
    "reg = linear_model.LinearRegression()\n",
    "#reg.fit(df3[['u','g','r','i','z','y']],df.test1)\n",
    "reg.fit(df3.iloc[0:6][['u','g','r','i','z','y']],df.bin1.iloc[0:6])"
   ]
  },
  {
   "cell_type": "code",
   "execution_count": 104,
   "metadata": {},
   "outputs": [
    {
     "data": {
      "text/plain": [
       "array([-8.66423697e-04,  1.70592911e+07,  2.13892988e+07, -2.13892984e+07,\n",
       "       -3.41185825e+07,  1.82618242e-02])"
      ]
     },
     "execution_count": 104,
     "metadata": {},
     "output_type": "execute_result"
    }
   ],
   "source": [
    "reg.coef_"
   ]
  },
  {
   "cell_type": "code",
   "execution_count": 105,
   "metadata": {},
   "outputs": [
    {
     "data": {
      "text/plain": [
       "407074349.2710637"
      ]
     },
     "execution_count": 105,
     "metadata": {},
     "output_type": "execute_result"
    }
   ],
   "source": [
    "reg.intercept_"
   ]
  },
  {
   "cell_type": "code",
   "execution_count": 106,
   "metadata": {},
   "outputs": [
    {
     "data": {
      "text/plain": [
       "array([0.01709998])"
      ]
     },
     "execution_count": 106,
     "metadata": {},
     "output_type": "execute_result"
    }
   ],
   "source": [
    "reg.predict([[25.90,27.26,27.48,26.78,26.00,25.08]])"
   ]
  },
  {
   "cell_type": "code",
   "execution_count": 123,
   "metadata": {},
   "outputs": [
    {
     "data": {
      "text/plain": [
       "count    7.000000\n",
       "mean     0.020086\n",
       "std      0.007805\n",
       "min      0.016200\n",
       "25%      0.016650\n",
       "50%      0.017300\n",
       "75%      0.018050\n",
       "max      0.037700\n",
       "Name: bin1, dtype: float64"
      ]
     },
     "execution_count": 123,
     "metadata": {},
     "output_type": "execute_result"
    }
   ],
   "source": [
    "df3.iloc[0:7]['bin1'].describe()"
   ]
  },
  {
   "cell_type": "markdown",
   "metadata": {},
   "source": [
    "### Counting other bands as unchanged"
   ]
  },
  {
   "cell_type": "code",
   "execution_count": 111,
   "metadata": {},
   "outputs": [
    {
     "data": {
      "text/plain": [
       "LinearRegression(copy_X=True, fit_intercept=True, n_jobs=None,\n",
       "         normalize=False)"
      ]
     },
     "execution_count": 111,
     "metadata": {},
     "output_type": "execute_result"
    }
   ],
   "source": [
    "reg2 = linear_model.LinearRegression()\n",
    "reg2.fit(df3.iloc[0:3][['u']],df.bin1.iloc[0:3])"
   ]
  },
  {
   "cell_type": "code",
   "execution_count": 110,
   "metadata": {},
   "outputs": [
    {
     "data": {
      "text/plain": [
       "array([0.01924762])"
      ]
     },
     "execution_count": 110,
     "metadata": {},
     "output_type": "execute_result"
    }
   ],
   "source": [
    "reg2.predict([[25.90]])"
   ]
  },
  {
   "cell_type": "code",
   "execution_count": 113,
   "metadata": {},
   "outputs": [
    {
     "data": {
      "text/plain": [
       "LinearRegression(copy_X=True, fit_intercept=True, n_jobs=None,\n",
       "         normalize=False)"
      ]
     },
     "execution_count": 113,
     "metadata": {},
     "output_type": "execute_result"
    }
   ],
   "source": [
    "reg3 = linear_model.LinearRegression()\n",
    "reg3.fit(df3.iloc[5:7][['y']],df.bin1.iloc[5:7])"
   ]
  },
  {
   "cell_type": "code",
   "execution_count": 115,
   "metadata": {},
   "outputs": [
    {
     "data": {
      "text/plain": [
       "array([0.0171])"
      ]
     },
     "execution_count": 115,
     "metadata": {},
     "output_type": "execute_result"
    }
   ],
   "source": [
    "reg3.predict([[25.08]])"
   ]
  },
  {
   "cell_type": "markdown",
   "metadata": {},
   "source": [
    "### Plotting std deviation against  u band exposure\n",
    "#### All other bands unchanged"
   ]
  },
  {
   "cell_type": "code",
   "execution_count": 133,
   "metadata": {},
   "outputs": [
    {
     "data": {
      "text/plain": [
       "<matplotlib.axes._subplots.AxesSubplot at 0x7cfb3fa2eb00>"
      ]
     },
     "execution_count": 133,
     "metadata": {},
     "output_type": "execute_result"
    },
    {
     "data": {
      "image/png": "[encoded data removed]",
      "text/plain": [
       "<Figure size 432x288 with 1 Axes>"
      ]
     },
     "metadata": {
      "needs_background": "light"
     },
     "output_type": "display_data"
    }
   ],
   "source": [
    "ax = plt.gca()\n",
    "#plt.ylim(0.01, 0.02)\n",
    "df3.iloc[0:3].plot(kind='scatter',x='u',y='bin8',ax=ax)"
   ]
  },
  {
   "cell_type": "code",
   "execution_count": null,
   "metadata": {},
   "outputs": [],
   "source": [
    "ylim(0.01, 0.02)"
   ]
  },
  {
   "cell_type": "markdown",
   "metadata": {},
   "source": [
    "### I see a sin function? - Fitting to a sin function"
   ]
  },
  {
   "cell_type": "code",
   "execution_count": 145,
   "metadata": {},
   "outputs": [],
   "source": [
    "from scipy.optimize import leastsq"
   ]
  },
  {
   "cell_type": "code",
   "execution_count": 146,
   "metadata": {},
   "outputs": [],
   "source": [
    "data = df3.iloc[0:3][\"bin1\"].tolist()"
   ]
  },
  {
   "cell_type": "code",
   "execution_count": 147,
   "metadata": {},
   "outputs": [],
   "source": [
    "guess_mean = np.mean(data)\n",
    "guess_std = 3*np.std(data)/(2**0.5)/(2**0.5)\n",
    "guess_phase = 0\n",
    "guess_freq = 1\n",
    "guess_amp = 1"
   ]
  },
  {
   "cell_type": "code",
   "execution_count": 148,
   "metadata": {},
   "outputs": [],
   "source": [
    "data_first_guess = guess_std*np.sin(t+guess_phase) + guess_mean\n"
   ]
  },
  {
   "cell_type": "code",
   "execution_count": 149,
   "metadata": {},
   "outputs": [
    {
     "ename": "ValueError",
     "evalue": "operands could not be broadcast together with shapes (1000,) (3,) ",
     "output_type": "error",
     "traceback": [
      "\u001b[0;31m---------------------------------------------------------------------------\u001b[0m",
      "\u001b[0;31mValueError\u001b[0m                                Traceback (most recent call last)",
      "\u001b[0;32m<ipython-input-149-c126d16e2817>\u001b[0m in \u001b[0;36m<module>\u001b[0;34m\u001b[0m\n\u001b[1;32m      1\u001b[0m \u001b[0moptimize_func\u001b[0m \u001b[0;34m=\u001b[0m \u001b[0;32mlambda\u001b[0m \u001b[0mx\u001b[0m\u001b[0;34m:\u001b[0m \u001b[0mx\u001b[0m\u001b[0;34m[\u001b[0m\u001b[0;36m0\u001b[0m\u001b[0;34m]\u001b[0m\u001b[0;34m*\u001b[0m\u001b[0mnp\u001b[0m\u001b[0;34m.\u001b[0m\u001b[0msin\u001b[0m\u001b[0;34m(\u001b[0m\u001b[0mx\u001b[0m\u001b[0;34m[\u001b[0m\u001b[0;36m1\u001b[0m\u001b[0;34m]\u001b[0m\u001b[0;34m*\u001b[0m\u001b[0mt\u001b[0m\u001b[0;34m+\u001b[0m\u001b[0mx\u001b[0m\u001b[0;34m[\u001b[0m\u001b[0;36m2\u001b[0m\u001b[0;34m]\u001b[0m\u001b[0;34m)\u001b[0m \u001b[0;34m+\u001b[0m \u001b[0mx\u001b[0m\u001b[0;34m[\u001b[0m\u001b[0;36m3\u001b[0m\u001b[0;34m]\u001b[0m \u001b[0;34m-\u001b[0m \u001b[0mdata\u001b[0m\u001b[0;34m\u001b[0m\u001b[0;34m\u001b[0m\u001b[0m\n\u001b[0;32m----> 2\u001b[0;31m \u001b[0mest_amp\u001b[0m\u001b[0;34m,\u001b[0m \u001b[0mest_freq\u001b[0m\u001b[0;34m,\u001b[0m \u001b[0mest_phase\u001b[0m\u001b[0;34m,\u001b[0m \u001b[0mest_mean\u001b[0m \u001b[0;34m=\u001b[0m \u001b[0mleastsq\u001b[0m\u001b[0;34m(\u001b[0m\u001b[0moptimize_func\u001b[0m\u001b[0;34m,\u001b[0m \u001b[0;34m[\u001b[0m\u001b[0mguess_amp\u001b[0m\u001b[0;34m,\u001b[0m \u001b[0mguess_freq\u001b[0m\u001b[0;34m,\u001b[0m \u001b[0mguess_phase\u001b[0m\u001b[0;34m,\u001b[0m \u001b[0mguess_mean\u001b[0m\u001b[0;34m]\u001b[0m\u001b[0;34m)\u001b[0m\u001b[0;34m[\u001b[0m\u001b[0;36m0\u001b[0m\u001b[0;34m]\u001b[0m\u001b[0;34m\u001b[0m\u001b[0;34m\u001b[0m\u001b[0m\n\u001b[0m\u001b[1;32m      3\u001b[0m \u001b[0;34m\u001b[0m\u001b[0m\n\u001b[1;32m      4\u001b[0m \u001b[0;31m# recreate the fitted curve using the optimized parameters\u001b[0m\u001b[0;34m\u001b[0m\u001b[0;34m\u001b[0m\u001b[0;34m\u001b[0m\u001b[0m\n\u001b[1;32m      5\u001b[0m \u001b[0mdata_fit\u001b[0m \u001b[0;34m=\u001b[0m \u001b[0mest_amp\u001b[0m\u001b[0;34m*\u001b[0m\u001b[0mnp\u001b[0m\u001b[0;34m.\u001b[0m\u001b[0msin\u001b[0m\u001b[0;34m(\u001b[0m\u001b[0mest_freq\u001b[0m\u001b[0;34m*\u001b[0m\u001b[0mt\u001b[0m\u001b[0;34m+\u001b[0m\u001b[0mest_phase\u001b[0m\u001b[0;34m)\u001b[0m \u001b[0;34m+\u001b[0m \u001b[0mest_mean\u001b[0m\u001b[0;34m\u001b[0m\u001b[0;34m\u001b[0m\u001b[0m\n",
      "\u001b[0;32m~/apps/anaconda3/lib/python3.7/site-packages/scipy/optimize/minpack.py\u001b[0m in \u001b[0;36mleastsq\u001b[0;34m(func, x0, args, Dfun, full_output, col_deriv, ftol, xtol, gtol, maxfev, epsfcn, factor, diag)\u001b[0m\n\u001b[1;32m    382\u001b[0m     \u001b[0;32mif\u001b[0m \u001b[0;32mnot\u001b[0m \u001b[0misinstance\u001b[0m\u001b[0;34m(\u001b[0m\u001b[0margs\u001b[0m\u001b[0;34m,\u001b[0m \u001b[0mtuple\u001b[0m\u001b[0;34m)\u001b[0m\u001b[0;34m:\u001b[0m\u001b[0;34m\u001b[0m\u001b[0;34m\u001b[0m\u001b[0m\n\u001b[1;32m    383\u001b[0m         \u001b[0margs\u001b[0m \u001b[0;34m=\u001b[0m \u001b[0;34m(\u001b[0m\u001b[0margs\u001b[0m\u001b[0;34m,\u001b[0m\u001b[0;34m)\u001b[0m\u001b[0;34m\u001b[0m\u001b[0;34m\u001b[0m\u001b[0m\n\u001b[0;32m--> 384\u001b[0;31m     \u001b[0mshape\u001b[0m\u001b[0;34m,\u001b[0m \u001b[0mdtype\u001b[0m \u001b[0;34m=\u001b[0m \u001b[0m_check_func\u001b[0m\u001b[0;34m(\u001b[0m\u001b[0;34m'leastsq'\u001b[0m\u001b[0;34m,\u001b[0m \u001b[0;34m'func'\u001b[0m\u001b[0;34m,\u001b[0m \u001b[0mfunc\u001b[0m\u001b[0;34m,\u001b[0m \u001b[0mx0\u001b[0m\u001b[0;34m,\u001b[0m \u001b[0margs\u001b[0m\u001b[0;34m,\u001b[0m \u001b[0mn\u001b[0m\u001b[0;34m)\u001b[0m\u001b[0;34m\u001b[0m\u001b[0;34m\u001b[0m\u001b[0m\n\u001b[0m\u001b[1;32m    385\u001b[0m     \u001b[0mm\u001b[0m \u001b[0;34m=\u001b[0m \u001b[0mshape\u001b[0m\u001b[0;34m[\u001b[0m\u001b[0;36m0\u001b[0m\u001b[0;34m]\u001b[0m\u001b[0;34m\u001b[0m\u001b[0;34m\u001b[0m\u001b[0m\n\u001b[1;32m    386\u001b[0m     \u001b[0;32mif\u001b[0m \u001b[0mn\u001b[0m \u001b[0;34m>\u001b[0m \u001b[0mm\u001b[0m\u001b[0;34m:\u001b[0m\u001b[0;34m\u001b[0m\u001b[0;34m\u001b[0m\u001b[0m\n",
      "\u001b[0;32m~/apps/anaconda3/lib/python3.7/site-packages/scipy/optimize/minpack.py\u001b[0m in \u001b[0;36m_check_func\u001b[0;34m(checker, argname, thefunc, x0, args, numinputs, output_shape)\u001b[0m\n\u001b[1;32m     24\u001b[0m def _check_func(checker, argname, thefunc, x0, args, numinputs,\n\u001b[1;32m     25\u001b[0m                 output_shape=None):\n\u001b[0;32m---> 26\u001b[0;31m     \u001b[0mres\u001b[0m \u001b[0;34m=\u001b[0m \u001b[0matleast_1d\u001b[0m\u001b[0;34m(\u001b[0m\u001b[0mthefunc\u001b[0m\u001b[0;34m(\u001b[0m\u001b[0;34m*\u001b[0m\u001b[0;34m(\u001b[0m\u001b[0;34m(\u001b[0m\u001b[0mx0\u001b[0m\u001b[0;34m[\u001b[0m\u001b[0;34m:\u001b[0m\u001b[0mnuminputs\u001b[0m\u001b[0;34m]\u001b[0m\u001b[0;34m,\u001b[0m\u001b[0;34m)\u001b[0m \u001b[0;34m+\u001b[0m \u001b[0margs\u001b[0m\u001b[0;34m)\u001b[0m\u001b[0;34m)\u001b[0m\u001b[0;34m)\u001b[0m\u001b[0;34m\u001b[0m\u001b[0;34m\u001b[0m\u001b[0m\n\u001b[0m\u001b[1;32m     27\u001b[0m     \u001b[0;32mif\u001b[0m \u001b[0;34m(\u001b[0m\u001b[0moutput_shape\u001b[0m \u001b[0;32mis\u001b[0m \u001b[0;32mnot\u001b[0m \u001b[0;32mNone\u001b[0m\u001b[0;34m)\u001b[0m \u001b[0;32mand\u001b[0m \u001b[0;34m(\u001b[0m\u001b[0mshape\u001b[0m\u001b[0;34m(\u001b[0m\u001b[0mres\u001b[0m\u001b[0;34m)\u001b[0m \u001b[0;34m!=\u001b[0m \u001b[0moutput_shape\u001b[0m\u001b[0;34m)\u001b[0m\u001b[0;34m:\u001b[0m\u001b[0;34m\u001b[0m\u001b[0;34m\u001b[0m\u001b[0m\n\u001b[1;32m     28\u001b[0m         \u001b[0;32mif\u001b[0m \u001b[0;34m(\u001b[0m\u001b[0moutput_shape\u001b[0m\u001b[0;34m[\u001b[0m\u001b[0;36m0\u001b[0m\u001b[0;34m]\u001b[0m \u001b[0;34m!=\u001b[0m \u001b[0;36m1\u001b[0m\u001b[0;34m)\u001b[0m\u001b[0;34m:\u001b[0m\u001b[0;34m\u001b[0m\u001b[0;34m\u001b[0m\u001b[0m\n",
      "\u001b[0;32m<ipython-input-149-c126d16e2817>\u001b[0m in \u001b[0;36m<lambda>\u001b[0;34m(x)\u001b[0m\n\u001b[0;32m----> 1\u001b[0;31m \u001b[0moptimize_func\u001b[0m \u001b[0;34m=\u001b[0m \u001b[0;32mlambda\u001b[0m \u001b[0mx\u001b[0m\u001b[0;34m:\u001b[0m \u001b[0mx\u001b[0m\u001b[0;34m[\u001b[0m\u001b[0;36m0\u001b[0m\u001b[0;34m]\u001b[0m\u001b[0;34m*\u001b[0m\u001b[0mnp\u001b[0m\u001b[0;34m.\u001b[0m\u001b[0msin\u001b[0m\u001b[0;34m(\u001b[0m\u001b[0mx\u001b[0m\u001b[0;34m[\u001b[0m\u001b[0;36m1\u001b[0m\u001b[0;34m]\u001b[0m\u001b[0;34m*\u001b[0m\u001b[0mt\u001b[0m\u001b[0;34m+\u001b[0m\u001b[0mx\u001b[0m\u001b[0;34m[\u001b[0m\u001b[0;36m2\u001b[0m\u001b[0;34m]\u001b[0m\u001b[0;34m)\u001b[0m \u001b[0;34m+\u001b[0m \u001b[0mx\u001b[0m\u001b[0;34m[\u001b[0m\u001b[0;36m3\u001b[0m\u001b[0;34m]\u001b[0m \u001b[0;34m-\u001b[0m \u001b[0mdata\u001b[0m\u001b[0;34m\u001b[0m\u001b[0;34m\u001b[0m\u001b[0m\n\u001b[0m\u001b[1;32m      2\u001b[0m \u001b[0mest_amp\u001b[0m\u001b[0;34m,\u001b[0m \u001b[0mest_freq\u001b[0m\u001b[0;34m,\u001b[0m \u001b[0mest_phase\u001b[0m\u001b[0;34m,\u001b[0m \u001b[0mest_mean\u001b[0m \u001b[0;34m=\u001b[0m \u001b[0mleastsq\u001b[0m\u001b[0;34m(\u001b[0m\u001b[0moptimize_func\u001b[0m\u001b[0;34m,\u001b[0m \u001b[0;34m[\u001b[0m\u001b[0mguess_amp\u001b[0m\u001b[0;34m,\u001b[0m \u001b[0mguess_freq\u001b[0m\u001b[0;34m,\u001b[0m \u001b[0mguess_phase\u001b[0m\u001b[0;34m,\u001b[0m \u001b[0mguess_mean\u001b[0m\u001b[0;34m]\u001b[0m\u001b[0;34m)\u001b[0m\u001b[0;34m[\u001b[0m\u001b[0;36m0\u001b[0m\u001b[0;34m]\u001b[0m\u001b[0;34m\u001b[0m\u001b[0;34m\u001b[0m\u001b[0m\n\u001b[1;32m      3\u001b[0m \u001b[0;34m\u001b[0m\u001b[0m\n\u001b[1;32m      4\u001b[0m \u001b[0;31m# recreate the fitted curve using the optimized parameters\u001b[0m\u001b[0;34m\u001b[0m\u001b[0;34m\u001b[0m\u001b[0;34m\u001b[0m\u001b[0m\n\u001b[1;32m      5\u001b[0m \u001b[0mdata_fit\u001b[0m \u001b[0;34m=\u001b[0m \u001b[0mest_amp\u001b[0m\u001b[0;34m*\u001b[0m\u001b[0mnp\u001b[0m\u001b[0;34m.\u001b[0m\u001b[0msin\u001b[0m\u001b[0;34m(\u001b[0m\u001b[0mest_freq\u001b[0m\u001b[0;34m*\u001b[0m\u001b[0mt\u001b[0m\u001b[0;34m+\u001b[0m\u001b[0mest_phase\u001b[0m\u001b[0;34m)\u001b[0m \u001b[0;34m+\u001b[0m \u001b[0mest_mean\u001b[0m\u001b[0;34m\u001b[0m\u001b[0;34m\u001b[0m\u001b[0m\n",
      "\u001b[0;31mValueError\u001b[0m: operands could not be broadcast together with shapes (1000,) (3,) "
     ]
    }
   ],
   "source": [
    "optimize_func = lambda x: x[0]*np.sin(x[1]*t+x[2]) + x[3] - data\n",
    "est_amp, est_freq, est_phase, est_mean = leastsq(optimize_func, [guess_amp, guess_freq, guess_phase, guess_mean])[0]\n",
    "\n",
    "# recreate the fitted curve using the optimized parameters\n",
    "data_fit = est_amp*np.sin(est_freq*t+est_phase) + est_mean\n",
    "\n",
    "# recreate the fitted curve using the optimized parameters\n",
    "\n",
    "fine_t = np.arange(0,max(t),0.1)\n",
    "data_fit=est_amp*np.sin(est_freq*fine_t+est_phase)+est_mean\n",
    "\n",
    "plt.plot(t, data, '.')\n",
    "plt.plot(t, data_first_guess, label='first guess')\n",
    "plt.plot(fine_t, data_fit, label='after fitting')\n",
    "plt.legend()\n",
    "plt.show()"
   ]
  },
  {
   "cell_type": "markdown",
   "metadata": {},
   "source": [
    "### Notes"
   ]
  },
  {
   "cell_type": "markdown",
   "metadata": {},
   "source": [
    "If equally spaced data\n",
    "https://scipy-cookbook.readthedocs.io/items/Interpolation.html"
   ]
  },
  {
   "cell_type": "code",
   "execution_count": null,
   "metadata": {},
   "outputs": [],
   "source": []
  }
 ],
 "metadata": {
  "kernelspec": {
   "display_name": "Python 3",
   "language": "python",
   "name": "python3"
  },
  "language_info": {
   "codemirror_mode": {
    "name": "ipython",
    "version": 3
   },
   "file_extension": ".py",
   "mimetype": "text/x-python",
   "name": "python",
   "nbconvert_exporter": "python",
   "pygments_lexer": "ipython3",
   "version": "3.7.3"
  }
 },
 "nbformat": 4,
 "nbformat_minor": 2
}
