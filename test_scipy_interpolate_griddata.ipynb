{
 "cells": [
  {
   "cell_type": "code",
   "execution_count": 8,
   "metadata": {},
   "outputs": [
    {
     "name": "stdout",
     "output_type": "stream",
     "text": [
      "Min in each filter:  [24.84 26.13 26.28 25.58 24.81 23.61]\n",
      "Max in each filter:  [26.38 27.48 27.58 26.88 26.11 25.08]\n",
      "In-bewteen values:  [25.61  26.805 26.93  26.23  25.46  24.345]\n",
      "(10, 6) (10,) (6,)\n"
     ]
    }
   ],
   "source": [
    "### Attempt interpolation\n",
    "import numpy as np\n",
    "from scipy.interpolate import griddata\n",
    "\n",
    "points = np.asarray( [[25.67, 27.42, 27.55, 26.85, 26.08, 24.88], [26.09, 27.38, 27.53, 26.83, 26.06, 24.86],\\\n",
    " [26.38, 27.32, 27.51, 26.81, 26.03, 24.83], [26.22, 27.48, 27.58, 26.88, 26.11, 24.48],\\\n",
    " [26.09, 27.38, 27.53, 26.83, 26.06, 24.86], [25.90, 27.26, 27.48, 26.78, 26.00, 25.08],\\\n",
    " [24.84, 26.13, 26.28, 25.58, 24.81, 23.61], [25.21, 26.51, 26.66, 25.96, 25.18, 23.98],\\\n",
    " [25.71, 27.00, 27.15, 26.45, 25.68, 24.48], [26.09, 27.38, 27.53, 26.83, 26.06, 24.86]], dtype='float')\n",
    "\n",
    "mins = np.min(points,axis=0)\n",
    "maxs = np.max(points,axis=0)\n",
    "mids = mins + (maxs-mins)/2.0\n",
    "\n",
    "print('Min in each filter: ',mins)\n",
    "print('Max in each filter: ',maxs)\n",
    "print('In-bewteen values: ',mids)\n",
    "\n",
    "# standard deviation in lowest redshift bin\n",
    "values = np.asarray( [0.0178,0.0162,0.0173,0.0171,0.0162,0.0183,0.0377,0.0290,0.0225,0.0163], dtype='float')\n",
    "\n",
    "# xi = np.asarray( [[25.0, 27.0, 27.0, 26.0, 25.0, 24.0]], dtype='float' )\n",
    "xi = np.asarray( mids, dtype='float' )\n",
    "\n",
    "print(points.shape,values.shape,xi.shape)"
   ]
  },
  {
   "cell_type": "code",
   "execution_count": 10,
   "metadata": {},
   "outputs": [
    {
     "name": "stdout",
     "output_type": "stream",
     "text": [
      "[0.0225]\n"
     ]
    },
    {
     "ename": "QhullError",
     "evalue": "Qhull error",
     "output_type": "error",
     "traceback": [
      "\u001b[0;31m---------------------------------------------------------------------------\u001b[0m",
      "\u001b[0;31mQhullError\u001b[0m                                Traceback (most recent call last)",
      "\u001b[0;32m<ipython-input-10-588ad4aa3ef0>\u001b[0m in \u001b[0;36m<module>\u001b[0;34m()\u001b[0m\n\u001b[1;32m      5\u001b[0m \u001b[0;34m\u001b[0m\u001b[0m\n\u001b[1;32m      6\u001b[0m \u001b[0;31m### Other interp methods return errors; infer grid not well-sampled enough\u001b[0m\u001b[0;34m\u001b[0m\u001b[0;34m\u001b[0m\u001b[0m\n\u001b[0;32m----> 7\u001b[0;31m \u001b[0mresults\u001b[0m \u001b[0;34m=\u001b[0m \u001b[0mgriddata\u001b[0m\u001b[0;34m(\u001b[0m\u001b[0mpoints\u001b[0m\u001b[0;34m,\u001b[0m\u001b[0mvalues\u001b[0m\u001b[0;34m,\u001b[0m\u001b[0mxi\u001b[0m\u001b[0;34m,\u001b[0m\u001b[0mmethod\u001b[0m\u001b[0;34m=\u001b[0m\u001b[0;34m'linear'\u001b[0m\u001b[0;34m,\u001b[0m\u001b[0mrescale\u001b[0m\u001b[0;34m=\u001b[0m\u001b[0;32mTrue\u001b[0m\u001b[0;34m)\u001b[0m\u001b[0;34m\u001b[0m\u001b[0m\n\u001b[0m\u001b[1;32m      8\u001b[0m \u001b[0mprint\u001b[0m\u001b[0;34m(\u001b[0m\u001b[0mresults\u001b[0m\u001b[0;34m)\u001b[0m\u001b[0;34m\u001b[0m\u001b[0m\n\u001b[1;32m      9\u001b[0m \u001b[0;31m# results = griddata(points,values,xi,method='cubic',rescale=True)\u001b[0m\u001b[0;34m\u001b[0m\u001b[0;34m\u001b[0m\u001b[0m\n",
      "\u001b[0;32m/Users/melissagraham/anaconda/lib/python3.5/site-packages/scipy/interpolate/ndgriddata.py\u001b[0m in \u001b[0;36mgriddata\u001b[0;34m(points, values, xi, method, fill_value, rescale)\u001b[0m\n\u001b[1;32m    215\u001b[0m     \u001b[0;32melif\u001b[0m \u001b[0mmethod\u001b[0m \u001b[0;34m==\u001b[0m \u001b[0;34m'linear'\u001b[0m\u001b[0;34m:\u001b[0m\u001b[0;34m\u001b[0m\u001b[0m\n\u001b[1;32m    216\u001b[0m         ip = LinearNDInterpolator(points, values, fill_value=fill_value,\n\u001b[0;32m--> 217\u001b[0;31m                                   rescale=rescale)\n\u001b[0m\u001b[1;32m    218\u001b[0m         \u001b[0;32mreturn\u001b[0m \u001b[0mip\u001b[0m\u001b[0;34m(\u001b[0m\u001b[0mxi\u001b[0m\u001b[0;34m)\u001b[0m\u001b[0;34m\u001b[0m\u001b[0m\n\u001b[1;32m    219\u001b[0m     \u001b[0;32melif\u001b[0m \u001b[0mmethod\u001b[0m \u001b[0;34m==\u001b[0m \u001b[0;34m'cubic'\u001b[0m \u001b[0;32mand\u001b[0m \u001b[0mndim\u001b[0m \u001b[0;34m==\u001b[0m \u001b[0;36m2\u001b[0m\u001b[0;34m:\u001b[0m\u001b[0;34m\u001b[0m\u001b[0m\n",
      "\u001b[0;32mscipy/interpolate/interpnd.pyx\u001b[0m in \u001b[0;36mscipy.interpolate.interpnd.LinearNDInterpolator.__init__ (scipy/interpolate/interpnd.c:4980)\u001b[0;34m()\u001b[0m\n",
      "\u001b[0;32mscipy/spatial/qhull.pyx\u001b[0m in \u001b[0;36mscipy.spatial.qhull.Delaunay.__init__ (scipy/spatial/qhull.c:16293)\u001b[0;34m()\u001b[0m\n",
      "\u001b[0;32mscipy/spatial/qhull.pyx\u001b[0m in \u001b[0;36mscipy.spatial.qhull._Qhull.__init__ (scipy/spatial/qhull.c:3879)\u001b[0;34m()\u001b[0m\n",
      "\u001b[0;31mQhullError\u001b[0m: Qhull error"
     ]
    }
   ],
   "source": [
    "### method='nearest' simply \"return the value at the data point closest to the point of interpolation\"\n",
    "### that's not really interpolating\n",
    "results = griddata(points,values,xi,method='nearest',rescale=True)\n",
    "print(results)\n",
    "\n",
    "### Other interp methods return errors; infer grid not well-sampled enough\n",
    "results = griddata(points,values,xi,method='linear',rescale=True)\n",
    "print(results)\n",
    "# results = griddata(points,values,xi,method='cubic',rescale=True)\n",
    "# print(results)"
   ]
  },
  {
   "cell_type": "code",
   "execution_count": null,
   "metadata": {
    "collapsed": true
   },
   "outputs": [],
   "source": []
  }
 ],
 "metadata": {
  "kernelspec": {
   "display_name": "Python 3",
   "language": "python",
   "name": "python3"
  },
  "language_info": {
   "codemirror_mode": {
    "name": "ipython",
    "version": 3
   },
   "file_extension": ".py",
   "mimetype": "text/x-python",
   "name": "python",
   "nbconvert_exporter": "python",
   "pygments_lexer": "ipython3",
   "version": "3.5.3"
  }
 },
 "nbformat": 4,
 "nbformat_minor": 2
}
