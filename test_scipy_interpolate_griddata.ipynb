{
 "cells": [
  {
   "cell_type": "code",
   "execution_count": 1,
   "metadata": {},
   "outputs": [],
   "source": [
    "### In this notebook we attempt interpolation of photo-z results.\n",
    "import numpy as np\n",
    "from scipy.interpolate import griddata"
   ]
  },
  {
   "cell_type": "code",
   "execution_count": 2,
   "metadata": {},
   "outputs": [
    {
     "name": "stdout",
     "output_type": "stream",
     "text": [
      "Check xi:\n",
      "[26.09 27.38 27.53 26.83 26.05 24.86] 0.0242\n",
      "[23.15 27.38 27.53 26.83 26.05 24.86] 0.0274\n",
      "[23.9  27.38 27.53 26.83 26.05 24.86] 0.0266\n",
      "[[26.11 27.4  27.55 26.85 26.07 24.88]\n",
      " [23.13 27.36 27.51 26.81 26.03 24.84]\n",
      " [23.95 27.43 27.58 26.88 26.1  24.91]]\n",
      "Check shapes:\n",
      "(91, 6) (91,) (3, 6)\n"
     ]
    }
   ],
   "source": [
    "### Set up the arrays for interpolation\n",
    "\n",
    "# # # # # # # # # # # # # # # # # # # # # # # # # # # # # # \n",
    "### Read in the limiting magnitudes from grid_stddevs.dat\n",
    "###  row = one photo-z simulation\n",
    "###  column = limiting magnitude in ugrizy\n",
    "points = np.loadtxt( 'grid_stddevs.dat', dtype='float', usecols=(0,1,2,3,4,5))\n",
    "\n",
    "\n",
    "# # # # # # # # # # # # # # # # # # # # # # # # # # # # # # \n",
    "### Read in the standard deviation in lowest redshift bin from grid_stddevs.dat\n",
    "values = np.loadtxt( 'grid_stddevs.dat', dtype='float', usecols={6})\n",
    "\n",
    "\n",
    "# # # # # # # # # # # # # # # # # # # # # # # # # # # # # # \n",
    "### Define test points in 6D-space at which to interpolate.\n",
    "\n",
    "### Option 0: generic user inputs\n",
    "# xi = np.asarray( [[25.0, 27.0, 27.0, 26.0, 25.0, 24.0],\\\n",
    "#                   [25.5, 27.5, 27.5, 26.5, 25.5, 24.5],\\\n",
    "#                   [24.5, 26.5, 26.5, 25.5, 24.5, 23.5]], dtype='float' )\n",
    "\n",
    "### Option 1: slight offset from first few the runs\n",
    "xi = np.asarray( [points[0]+0.02,\\\n",
    "                  points[1]-0.02,\\\n",
    "                  points[2]+0.05], dtype='float' )\n",
    "print('Check xi:')\n",
    "print(points[0],values[0])\n",
    "print(points[1],values[1])\n",
    "print(points[2],values[2])\n",
    "print(xi)\n",
    "\n",
    "### Option 2: choose a set of limiting magnitudes that are right in the middle.\n",
    "# mins = np.min(points,axis=0)\n",
    "# maxs = np.max(points,axis=0)\n",
    "# mids = mins + (maxs-mins)/2.0\n",
    "# print('Minimum limiting magnitude in each filter: ',mins)\n",
    "# print('Maximum limiting magnitude in each filter: ',maxs)\n",
    "# print('Limiting magnitude in between min/max values: ',mids)\n",
    "# xi = np.asarray( [mids,mids+0.5,mids-0.5], dtype='float' )\n",
    "\n",
    "\n",
    "# # # # # # # # # # # # # # # # # # # # # # # # # # # # # # \n",
    "### Quick sanity check on the shapes of our arrays.\n",
    "### points: ndarray of floats, shape (n, D)\n",
    "### values: ndarray of float or complex, shape (n,)\n",
    "### xi: 2-D ndarray of float or tuple of 1-D array, shape (M, D)\n",
    "print('Check shapes:')\n",
    "print(points.shape,values.shape,xi.shape)"
   ]
  },
  {
   "cell_type": "code",
   "execution_count": 3,
   "metadata": {},
   "outputs": [
    {
     "name": "stdout",
     "output_type": "stream",
     "text": [
      "method = nearest\n",
      "[0.0242 0.0274 0.0266]\n",
      "method = linear\n",
      "[nan nan nan]\n"
     ]
    }
   ],
   "source": [
    "### Test the interpolation\n",
    "### method='cubic' cannot be used as it applies only to 1D and 2D data\n",
    "\n",
    "### method='nearest'\n",
    "###  This simply \"returns the value at the data point closest to the point of interpolation\"\n",
    "results = griddata(points,values,xi,method='nearest')\n",
    "print('method = nearest')\n",
    "print(results)\n",
    "del results\n",
    "\n",
    "### method='linear'\n",
    "results = griddata(points,values,xi,method='linear')\n",
    "print('method = linear')\n",
    "print(results)\n",
    "del results\n",
    "\n",
    "del points,values,xi"
   ]
  },
  {
   "cell_type": "code",
   "execution_count": 4,
   "metadata": {},
   "outputs": [
    {
     "name": "stdout",
     "output_type": "stream",
     "text": [
      "method = linear\n",
      "[0.02518627        nan 0.02677816]\n"
     ]
    }
   ],
   "source": [
    "### I suspect that linear is not working yet because of the 6D space we're working in.\n",
    "### Try it with just two filters, and see what the results are\n",
    "\n",
    "points = np.loadtxt( 'grid_stddevs.dat', dtype='float', usecols=(0,1))\n",
    "values = np.loadtxt( 'grid_stddevs.dat', dtype='float', usecols={6})\n",
    "xi = np.asarray( [points[0]+0.02,\\\n",
    "                  points[1]-0.02,\\\n",
    "                  points[2]+0.05], dtype='float' )\n",
    "results = griddata(points,values,xi,method='linear')\n",
    "print('method = linear')\n",
    "print(results)\n",
    "del results\n",
    "del points,values,xi"
   ]
  },
  {
   "cell_type": "code",
   "execution_count": null,
   "metadata": {
    "collapsed": true
   },
   "outputs": [],
   "source": []
  }
 ],
 "metadata": {
  "kernelspec": {
   "display_name": "Python 3",
   "language": "python",
   "name": "python3"
  },
  "language_info": {
   "codemirror_mode": {
    "name": "ipython",
    "version": 3
   },
   "file_extension": ".py",
   "mimetype": "text/x-python",
   "name": "python",
   "nbconvert_exporter": "python",
   "pygments_lexer": "ipython3",
   "version": "3.5.3"
  }
 },
 "nbformat": 4,
 "nbformat_minor": 2
}
